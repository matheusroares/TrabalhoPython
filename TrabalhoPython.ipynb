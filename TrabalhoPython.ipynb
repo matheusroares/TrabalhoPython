{
  "nbformat": 4,
  "nbformat_minor": 0,
  "metadata": {
    "colab": {
      "provenance": [],
      "authorship_tag": "ABX9TyM4yTY+UE4CgEEUTSuX7I8Q",
      "include_colab_link": true
    },
    "kernelspec": {
      "name": "python3",
      "display_name": "Python 3"
    },
    "language_info": {
      "name": "python"
    }
  },
  "cells": [
    {
      "cell_type": "markdown",
      "metadata": {
        "id": "view-in-github",
        "colab_type": "text"
      },
      "source": [
        "<a href=\"https://colab.research.google.com/github/matheusroares/TrabalhoPython/blob/main/TrabalhoPython.ipynb\" target=\"_parent\"><img src=\"https://colab.research.google.com/assets/colab-badge.svg\" alt=\"Open In Colab\"/></a>"
      ]
    },
    {
      "cell_type": "code",
      "execution_count": null,
      "metadata": {
        "colab": {
          "base_uri": "https://localhost:8080/",
          "height": 608
        },
        "id": "tgfQi96wqe7g",
        "outputId": "75ec03b5-c019-40c7-f5b8-1c1e3b6f2641"
      },
      "outputs": [
        {
          "output_type": "error",
          "ename": "FileNotFoundError",
          "evalue": "[Errno 2] No such file or directory: 'vendas.txt'",
          "traceback": [
            "\u001b[0;31m---------------------------------------------------------------------------\u001b[0m",
            "\u001b[0;31mFileNotFoundError\u001b[0m                         Traceback (most recent call last)",
            "\u001b[0;32m<ipython-input-2-d85e32ecaa76>\u001b[0m in \u001b[0;36m<cell line: 0>\u001b[0;34m()\u001b[0m\n\u001b[1;32m      1\u001b[0m \u001b[0;31m# exemplo 1\u001b[0m\u001b[0;34m\u001b[0m\u001b[0;34m\u001b[0m\u001b[0m\n\u001b[0;32m----> 2\u001b[0;31m \u001b[0;32mwith\u001b[0m \u001b[0mopen\u001b[0m\u001b[0;34m(\u001b[0m\u001b[0;34m'vendas.txt'\u001b[0m\u001b[0;34m,\u001b[0m \u001b[0;34m'r'\u001b[0m\u001b[0;34m)\u001b[0m \u001b[0;32mas\u001b[0m \u001b[0mfile\u001b[0m\u001b[0;34m:\u001b[0m\u001b[0;34m\u001b[0m\u001b[0;34m\u001b[0m\u001b[0m\n\u001b[0m\u001b[1;32m      3\u001b[0m   \u001b[0mprint\u001b[0m\u001b[0;34m(\u001b[0m\u001b[0mfile\u001b[0m\u001b[0;34m.\u001b[0m\u001b[0mread\u001b[0m\u001b[0;34m(\u001b[0m\u001b[0;34m)\u001b[0m\u001b[0;34m)\u001b[0m\u001b[0;34m\u001b[0m\u001b[0;34m\u001b[0m\u001b[0m\n",
            "\u001b[0;31mFileNotFoundError\u001b[0m: [Errno 2] No such file or directory: 'vendas.txt'"
          ]
        }
      ],
      "source": [
        "# exemplo 1\n",
        "with open('vendas.txt', 'r') as file:\n",
        "  print(file.read())"
      ]
    },
    {
      "cell_type": "code",
      "source": [
        "# exemplo 2\n",
        "\n",
        "# escrevendo no arquivo\n",
        "\n",
        "f = open('trabalhopython.txt', 'w')\n",
        "f.write('rodrigo buxa')\n",
        "f.close()\n",
        "\n",
        "# lendo\n",
        "\n",
        "f = open('trabalhopython.txt', 'r')\n",
        "print(f.read())\n",
        "f.close()\n",
        "\n"
      ],
      "metadata": {
        "colab": {
          "base_uri": "https://localhost:8080/"
        },
        "id": "rc0ayRcgt61v",
        "outputId": "eb33368e-fbb6-4d4a-8664-cb7e452a8326"
      },
      "execution_count": 1,
      "outputs": [
        {
          "output_type": "stream",
          "name": "stdout",
          "text": [
            "rodrigo buxa\n"
          ]
        }
      ]
    },
    {
      "cell_type": "code",
      "source": [
        "# exemplo 3\n",
        "# criando e escrvendo\n",
        "\n",
        "with open ('trabalho', 'w') as f:\n",
        "  f.write('rodrigo buxa\\n')\n",
        "  f.write('furou o futebol')\n",
        "\n",
        "# lendo o arquivo\n",
        "\n",
        "with open('trabalhopython', 'r') as f:\n",
        "  print(f.read())"
      ],
      "metadata": {
        "colab": {
          "base_uri": "https://localhost:8080/"
        },
        "id": "d326iEPcxvWV",
        "outputId": "e59f990e-0d02-406d-fa7a-741f73ae9440"
      },
      "execution_count": 5,
      "outputs": [
        {
          "output_type": "stream",
          "name": "stdout",
          "text": [
            "rodrigo buxa\n",
            "furou o futebol\n"
          ]
        }
      ]
    },
    {
      "cell_type": "code",
      "source": [
        "# exemplo 4\n",
        "\n",
        "f = open('vendas.txt', 'r')\n",
        "print(f.readline())\n",
        "print(f.readline())\n",
        "print(f.readline())\n",
        "print(f.readline())\n",
        "print(f.readline())\n",
        "print(f.readline())\n",
        "f.close()"
      ],
      "metadata": {
        "colab": {
          "base_uri": "https://localhost:8080/"
        },
        "id": "hbgFlKzqybuv",
        "outputId": "70512eaf-a809-4598-8546-7d44859a9f28"
      },
      "execution_count": null,
      "outputs": [
        {
          "output_type": "stream",
          "name": "stdout",
          "text": [
            "Produto;Categoria;Quantidade;Preço_Unitario;Data\n",
            "\n",
            "Caneta Azul;Papelaria;10;1.50;2024-03-01\n",
            "\n",
            "Caderno Universitário;Papelaria;5;12.90;2024-03-01\n",
            "\n",
            "Mouse Óptico;Eletrônicos;2;45.00;2024-03-02\n",
            "\n",
            "Teclado USB;Eletrônicos;1;89.90;2024-03-02\n",
            "\n",
            "Lápis Preto;Papelaria;20;0.80;2024-03-03\n",
            "\n"
          ]
        }
      ]
    },
    {
      "cell_type": "code",
      "source": [
        "# exemplo 5\n",
        "\n",
        "f = open('vendas.txt', 'r')\n",
        "print(f.readlines())\n",
        "f.close()"
      ],
      "metadata": {
        "colab": {
          "base_uri": "https://localhost:8080/"
        },
        "id": "enTIXyIXy5d1",
        "outputId": "be1d2417-1005-4464-f9b4-8ed82141dd37"
      },
      "execution_count": null,
      "outputs": [
        {
          "output_type": "stream",
          "name": "stdout",
          "text": [
            "['Produto;Categoria;Quantidade;Preço_Unitario;Data\\n', 'Caneta Azul;Papelaria;10;1.50;2024-03-01\\n', 'Caderno Universitário;Papelaria;5;12.90;2024-03-01\\n', 'Mouse Óptico;Eletrônicos;2;45.00;2024-03-02\\n', 'Teclado USB;Eletrônicos;1;89.90;2024-03-02\\n', 'Lápis Preto;Papelaria;20;0.80;2024-03-03\\n', 'Cabo HDMI;Eletrônicos;3;25.00;2024-03-04\\n', 'Livro de Python;Livros;1;55.00;2024-03-04\\n']\n"
          ]
        }
      ]
    },
    {
      "cell_type": "code",
      "source": [
        "# exemplo 6\n",
        "\n",
        "f = open('vendas.txt', 'r')\n",
        "for linha in f:\n",
        "  print(linha)\n",
        "f.close()"
      ],
      "metadata": {
        "colab": {
          "base_uri": "https://localhost:8080/"
        },
        "id": "i0-S8w9szUy6",
        "outputId": "35db3bfd-a29c-4f5b-e3cb-9698f037f648"
      },
      "execution_count": null,
      "outputs": [
        {
          "output_type": "stream",
          "name": "stdout",
          "text": [
            "Produto;Categoria;Quantidade;Preço_Unitario;Data\n",
            "\n",
            "Caneta Azul;Papelaria;10;1.50;2024-03-01\n",
            "\n",
            "Caderno Universitário;Papelaria;5;12.90;2024-03-01\n",
            "\n",
            "Mouse Óptico;Eletrônicos;2;45.00;2024-03-02\n",
            "\n",
            "Teclado USB;Eletrônicos;1;89.90;2024-03-02\n",
            "\n",
            "Lápis Preto;Papelaria;20;0.80;2024-03-03\n",
            "\n",
            "Cabo HDMI;Eletrônicos;3;25.00;2024-03-04\n",
            "\n",
            "Livro de Python;Livros;1;55.00;2024-03-04\n",
            "\n"
          ]
        }
      ]
    },
    {
      "cell_type": "code",
      "source": [
        "# exemplo 7\n",
        "\n",
        "f = open('vendas.txt', 'r')\n",
        "for linha in f:\n",
        "  print(linha.split())\n",
        "f.close()"
      ],
      "metadata": {
        "colab": {
          "base_uri": "https://localhost:8080/"
        },
        "id": "QPIEACvEzn0k",
        "outputId": "f3cc5516-697d-4473-c978-896eb20149a3"
      },
      "execution_count": null,
      "outputs": [
        {
          "output_type": "stream",
          "name": "stdout",
          "text": [
            "['Produto;Categoria;Quantidade;Preço_Unitario;Data']\n",
            "['Caneta', 'Azul;Papelaria;10;1.50;2024-03-01']\n",
            "['Caderno', 'Universitário;Papelaria;5;12.90;2024-03-01']\n",
            "['Mouse', 'Óptico;Eletrônicos;2;45.00;2024-03-02']\n",
            "['Teclado', 'USB;Eletrônicos;1;89.90;2024-03-02']\n",
            "['Lápis', 'Preto;Papelaria;20;0.80;2024-03-03']\n",
            "['Cabo', 'HDMI;Eletrônicos;3;25.00;2024-03-04']\n",
            "['Livro', 'de', 'Python;Livros;1;55.00;2024-03-04']\n"
          ]
        }
      ]
    },
    {
      "cell_type": "code",
      "source": [
        "# exemplo 8\n",
        "\n",
        "f = open('trabalhopython.txt', 'w+')\n",
        "\n",
        "texto = [\"guitarra\", \"vintage\", \"R$4500,00\"]\n",
        "\n",
        "for linha in texto:\n",
        "  f.write(linha)\n",
        "  f.write(\"\\n\")\n",
        "\n",
        "f.close()\n"
      ],
      "metadata": {
        "id": "KXBa7tQf0GJc"
      },
      "execution_count": 4,
      "outputs": []
    },
    {
      "cell_type": "code",
      "source": [
        "# exemplo 9\n",
        "\n",
        "f = open('trabalhopython.txt', 'r')\n",
        "\n",
        "for linha in f:\n",
        "  print(linha)\n",
        "\n",
        "f.close()"
      ],
      "metadata": {
        "colab": {
          "base_uri": "https://localhost:8080/"
        },
        "id": "8Jq8jm1gY9lK",
        "outputId": "6357aaba-e313-4e57-97a5-22e06586de17"
      },
      "execution_count": 3,
      "outputs": [
        {
          "output_type": "stream",
          "name": "stdout",
          "text": [
            "rodrigo buxa\n"
          ]
        }
      ]
    },
    {
      "cell_type": "code",
      "source": [
        "# exemplo 10\n",
        "\n",
        "f = open('pequenoprincipe.txt','r')\n",
        "\n",
        "print(f.read())\n",
        "\n",
        "f.close()"
      ],
      "metadata": {
        "colab": {
          "base_uri": "https://localhost:8080/"
        },
        "id": "YemsNJnQZVUl",
        "outputId": "37752b24-12f0-41ab-d3b3-bf6f1ff32ca6"
      },
      "execution_count": null,
      "outputs": [
        {
          "output_type": "stream",
          "name": "stdout",
          "text": [
            "É o tempo que tu perdeste com tua rosa que fez tua rosa tão importante.\n",
            "— Os homens esqueceram essa verdade — disse a raposa. — Mas tu não deves esquecê-la. Tu te tornas eternamente responsável por aquilo que cativas\n"
          ]
        }
      ]
    }
  ]
}