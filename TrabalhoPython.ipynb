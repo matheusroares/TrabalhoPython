{
  "nbformat": 4,
  "nbformat_minor": 0,
  "metadata": {
    "colab": {
      "provenance": [],
      "authorship_tag": "ABX9TyNOPHVjxh4FcFYUu3mL9B93",
      "include_colab_link": true
    },
    "kernelspec": {
      "name": "python3",
      "display_name": "Python 3"
    },
    "language_info": {
      "name": "python"
    }
  },
  "cells": [
    {
      "cell_type": "markdown",
      "metadata": {
        "id": "view-in-github",
        "colab_type": "text"
      },
      "source": [
        "<a href=\"https://colab.research.google.com/github/matheusroares/TrabalhoPython/blob/main/TrabalhoPython.ipynb\" target=\"_parent\"><img src=\"https://colab.research.google.com/assets/colab-badge.svg\" alt=\"Open In Colab\"/></a>"
      ]
    },
    {
      "cell_type": "code",
      "execution_count": 1,
      "metadata": {
        "colab": {
          "base_uri": "https://localhost:8080/"
        },
        "id": "tgfQi96wqe7g",
        "outputId": "1a958b54-c48e-4867-d1e4-a51d63e5dab0"
      },
      "outputs": [
        {
          "output_type": "stream",
          "name": "stdout",
          "text": [
            "Produto;Categoria;Quantidade;Preço_Unitario;Data\n",
            "Caneta Azul;Papelaria;10;1.50;2024-03-01\n",
            "Caderno Universitário;Papelaria;5;12.90;2024-03-01\n",
            "Mouse Óptico;Eletrônicos;2;45.00;2024-03-02\n",
            "Teclado USB;Eletrônicos;1;89.90;2024-03-02\n",
            "Lápis Preto;Papelaria;20;0.80;2024-03-03\n",
            "Cabo HDMI;Eletrônicos;3;25.00;2024-03-04\n",
            "Livro de Python;Livros;1;55.00;2024-03-04\n",
            "\n"
          ]
        }
      ],
      "source": [
        "# exemplo 1\n",
        "with open('vendas.txt', 'r') as file:\n",
        "  print(file.read())"
      ]
    },
    {
      "cell_type": "code",
      "source": [
        "# exemplo 2\n",
        "\n",
        "# escrevendo no arquivo\n",
        "\n",
        "f = open('trabalhopython.txt', 'w')\n",
        "f.write('rodrigo buxa')\n",
        "f.close()\n",
        "\n",
        "# lendo\n",
        "\n",
        "f = open('trabalhopython.txt', 'r')\n",
        "print(f.read())\n",
        "f.close()\n",
        "\n"
      ],
      "metadata": {
        "colab": {
          "base_uri": "https://localhost:8080/"
        },
        "id": "rc0ayRcgt61v",
        "outputId": "8e249f61-626c-4585-f891-3a55735e2b02"
      },
      "execution_count": 2,
      "outputs": [
        {
          "output_type": "stream",
          "name": "stdout",
          "text": [
            "rodrigo buxa\n"
          ]
        }
      ]
    },
    {
      "cell_type": "code",
      "source": [
        "# exemplo 3\n",
        "# criando e escrvendo\n",
        "\n",
        "with open ('trabalho', 'w') as f:\n",
        "  f.write('rodrigo buxa\\n')\n",
        "  f.write('furou o futebol')\n",
        "\n",
        "# lendo o arquivo\n",
        "\n",
        "with open('trabalho', 'r') as f:\n",
        "  print(f.read())"
      ],
      "metadata": {
        "colab": {
          "base_uri": "https://localhost:8080/"
        },
        "id": "d326iEPcxvWV",
        "outputId": "825a8e66-6955-4ebd-b7d9-88bf1d671830"
      },
      "execution_count": 5,
      "outputs": [
        {
          "output_type": "stream",
          "name": "stdout",
          "text": [
            "rodrigo buxa\n",
            "furou o futebol\n"
          ]
        }
      ]
    },
    {
      "cell_type": "code",
      "source": [
        "# exemplo 4\n",
        "\n",
        "f = open('vendas.txt', 'r')\n",
        "print(f.readline())\n",
        "print(f.readline())\n",
        "print(f.readline())\n",
        "print(f.readline())\n",
        "print(f.readline())\n",
        "print(f.readline())\n",
        "f.close()"
      ],
      "metadata": {
        "colab": {
          "base_uri": "https://localhost:8080/"
        },
        "id": "hbgFlKzqybuv",
        "outputId": "bd20131a-f046-41c7-ea1f-e74d1504c2bf"
      },
      "execution_count": 6,
      "outputs": [
        {
          "output_type": "stream",
          "name": "stdout",
          "text": [
            "Produto;Categoria;Quantidade;Preço_Unitario;Data\n",
            "\n",
            "Caneta Azul;Papelaria;10;1.50;2024-03-01\n",
            "\n",
            "Caderno Universitário;Papelaria;5;12.90;2024-03-01\n",
            "\n",
            "Mouse Óptico;Eletrônicos;2;45.00;2024-03-02\n",
            "\n",
            "Teclado USB;Eletrônicos;1;89.90;2024-03-02\n",
            "\n",
            "Lápis Preto;Papelaria;20;0.80;2024-03-03\n",
            "\n"
          ]
        }
      ]
    },
    {
      "cell_type": "code",
      "source": [
        "# exemplo 5\n",
        "\n",
        "f = open('vendas.txt', 'r')\n",
        "print(f.readlines())\n",
        "f.close()"
      ],
      "metadata": {
        "colab": {
          "base_uri": "https://localhost:8080/"
        },
        "id": "enTIXyIXy5d1",
        "outputId": "be1d2417-1005-4464-f9b4-8ed82141dd37"
      },
      "execution_count": null,
      "outputs": [
        {
          "output_type": "stream",
          "name": "stdout",
          "text": [
            "['Produto;Categoria;Quantidade;Preço_Unitario;Data\\n', 'Caneta Azul;Papelaria;10;1.50;2024-03-01\\n', 'Caderno Universitário;Papelaria;5;12.90;2024-03-01\\n', 'Mouse Óptico;Eletrônicos;2;45.00;2024-03-02\\n', 'Teclado USB;Eletrônicos;1;89.90;2024-03-02\\n', 'Lápis Preto;Papelaria;20;0.80;2024-03-03\\n', 'Cabo HDMI;Eletrônicos;3;25.00;2024-03-04\\n', 'Livro de Python;Livros;1;55.00;2024-03-04\\n']\n"
          ]
        }
      ]
    },
    {
      "cell_type": "code",
      "source": [
        "# exemplo 6\n",
        "\n",
        "f = open('vendas.txt', 'r')\n",
        "for linha in f:\n",
        "  print(linha)\n",
        "f.close()"
      ],
      "metadata": {
        "colab": {
          "base_uri": "https://localhost:8080/"
        },
        "id": "i0-S8w9szUy6",
        "outputId": "78c7c873-467a-4e76-abff-009324517ee7"
      },
      "execution_count": 7,
      "outputs": [
        {
          "output_type": "stream",
          "name": "stdout",
          "text": [
            "Produto;Categoria;Quantidade;Preço_Unitario;Data\n",
            "\n",
            "Caneta Azul;Papelaria;10;1.50;2024-03-01\n",
            "\n",
            "Caderno Universitário;Papelaria;5;12.90;2024-03-01\n",
            "\n",
            "Mouse Óptico;Eletrônicos;2;45.00;2024-03-02\n",
            "\n",
            "Teclado USB;Eletrônicos;1;89.90;2024-03-02\n",
            "\n",
            "Lápis Preto;Papelaria;20;0.80;2024-03-03\n",
            "\n",
            "Cabo HDMI;Eletrônicos;3;25.00;2024-03-04\n",
            "\n",
            "Livro de Python;Livros;1;55.00;2024-03-04\n",
            "\n"
          ]
        }
      ]
    },
    {
      "cell_type": "code",
      "source": [
        "# exemplo 7\n",
        "\n",
        "f = open('vendas.txt', 'r')\n",
        "for linha in f:\n",
        "  print(linha.split())\n",
        "f.close()"
      ],
      "metadata": {
        "colab": {
          "base_uri": "https://localhost:8080/"
        },
        "id": "QPIEACvEzn0k",
        "outputId": "8f31ddab-cda2-43d7-f3f2-d812a567e392"
      },
      "execution_count": 8,
      "outputs": [
        {
          "output_type": "stream",
          "name": "stdout",
          "text": [
            "['Produto;Categoria;Quantidade;Preço_Unitario;Data']\n",
            "['Caneta', 'Azul;Papelaria;10;1.50;2024-03-01']\n",
            "['Caderno', 'Universitário;Papelaria;5;12.90;2024-03-01']\n",
            "['Mouse', 'Óptico;Eletrônicos;2;45.00;2024-03-02']\n",
            "['Teclado', 'USB;Eletrônicos;1;89.90;2024-03-02']\n",
            "['Lápis', 'Preto;Papelaria;20;0.80;2024-03-03']\n",
            "['Cabo', 'HDMI;Eletrônicos;3;25.00;2024-03-04']\n",
            "['Livro', 'de', 'Python;Livros;1;55.00;2024-03-04']\n"
          ]
        }
      ]
    },
    {
      "cell_type": "code",
      "source": [
        "# exemplo 8\n",
        "\n",
        "f = open('trabalhopython.txt', 'w+')\n",
        "\n",
        "texto = [\"guitarra\", \"vintage\", \"R$4500,00\"]\n",
        "\n",
        "for linha in texto:\n",
        "  f.write(linha)\n",
        "  f.write(\"\\n\")\n",
        "\n",
        "f.close()\n"
      ],
      "metadata": {
        "id": "KXBa7tQf0GJc"
      },
      "execution_count": 9,
      "outputs": []
    },
    {
      "cell_type": "code",
      "source": [
        "# exemplo 9\n",
        "\n",
        "f = open('trabalhopython.txt', 'r')\n",
        "\n",
        "for linha in f:\n",
        "  print(linha)\n",
        "\n",
        "f.close()"
      ],
      "metadata": {
        "colab": {
          "base_uri": "https://localhost:8080/"
        },
        "id": "8Jq8jm1gY9lK",
        "outputId": "79fdcbee-f679-4765-a6c9-94f2e40b37cf"
      },
      "execution_count": 10,
      "outputs": [
        {
          "output_type": "stream",
          "name": "stdout",
          "text": [
            "guitarra\n",
            "\n",
            "vintage\n",
            "\n",
            "R$4500,00\n",
            "\n"
          ]
        }
      ]
    },
    {
      "cell_type": "code",
      "source": [
        "# exemplo 10\n",
        "\n",
        "f = open('pequenoprincipe.txt','r')\n",
        "\n",
        "print(f.read())\n",
        "\n",
        "f.close()"
      ],
      "metadata": {
        "colab": {
          "base_uri": "https://localhost:8080/"
        },
        "id": "YemsNJnQZVUl",
        "outputId": "64835395-5361-4e3b-efc5-d23dc865a628"
      },
      "execution_count": 11,
      "outputs": [
        {
          "output_type": "stream",
          "name": "stdout",
          "text": [
            "É o tempo que tu perdeste com tua rosa que fez tua rosa tão importante.\n",
            "— Os homens esqueceram essa verdade — disse a raposa. — Mas tu não deves esquecê-la. Tu te tornas eternamente responsável por aquilo que cativas\n"
          ]
        }
      ]
    }
  ]
}