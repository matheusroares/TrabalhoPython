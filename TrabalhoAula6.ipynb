{
  "nbformat": 4,
  "nbformat_minor": 0,
  "metadata": {
    "colab": {
      "provenance": [],
      "authorship_tag": "ABX9TyN4EgyxtUbHLnm4iohxtrwa",
      "include_colab_link": true
    },
    "kernelspec": {
      "name": "python3",
      "display_name": "Python 3"
    },
    "language_info": {
      "name": "python"
    }
  },
  "cells": [
    {
      "cell_type": "markdown",
      "metadata": {
        "id": "view-in-github",
        "colab_type": "text"
      },
      "source": [
        "<a href=\"https://colab.research.google.com/github/matheusroares/TrabalhoPython/blob/main/TrabalhoAula6.ipynb\" target=\"_parent\"><img src=\"https://colab.research.google.com/assets/colab-badge.svg\" alt=\"Open In Colab\"/></a>"
      ]
    },
    {
      "cell_type": "code",
      "execution_count": null,
      "metadata": {
        "id": "1Mn6qgfia-Mh"
      },
      "outputs": [],
      "source": [
        "# Exercício 1\n",
        "def verificar_nome():\n",
        "    try:\n",
        "        nome = input(\"Digite seu nome: \")\n",
        "        if not isinstance(nome, str) or nome.strip() == \"\":\n",
        "            raise ValueError(\"Nome inválido!\")\n",
        "        print(\"Nome válido:\", nome)\n",
        "    except Exception as e:\n",
        "        print(\"Erro:\", e)\n",
        "\n",
        "# Exemplo de chamada\n",
        "verificar_nome()"
      ]
    },
    {
      "cell_type": "code",
      "source": [
        "# Exercício 2\n",
        "def dividir_numeros():\n",
        "    try:\n",
        "        a = int(input(\"Digite o primeiro número: \"))\n",
        "        b = int(input(\"Digite o segundo número: \"))\n",
        "        resultado = a / b\n",
        "        print(\"Resultado da divisão:\", resultado)\n",
        "    except ZeroDivisionError:\n",
        "        print(\"Erro: divisão por zero!\")\n",
        "    except ValueError:\n",
        "        print(\"Erro: entrada não é um número válido.\")\n",
        "\n",
        "# Exemplo de chamada\n",
        "dividir_numeros()"
      ],
      "metadata": {
        "id": "XgJSh05OdY22"
      },
      "execution_count": null,
      "outputs": []
    },
    {
      "cell_type": "code",
      "source": [
        "import math\n",
        "\n",
        "def calcular_fatoriais(lista):\n",
        "    for i, valor in enumerate(lista):\n",
        "        try:\n",
        "            if not isinstance(valor, int):\n",
        "                raise TypeError(f\"Elemento na posição {i} não é um número.\")\n",
        "            if valor < 0:\n",
        "                raise ValueError(f\"Número negativo na posição {i}.\")\n",
        "            print(f\"Fatorial de {valor} é {math.factorial(valor)}\")\n",
        "        except Exception as e:\n",
        "            print(\"Erro:\", e)\n",
        "\n",
        "# Exemplo de chamada\n",
        "lista = [5, 'a', -3, 4]\n",
        "calcular_fatoriais(lista)"
      ],
      "metadata": {
        "id": "k8gIIdBjdbv_"
      },
      "execution_count": null,
      "outputs": []
    },
    {
      "cell_type": "code",
      "source": [
        "# Exercício 4\n",
        "def analisar_arquivo(nome_arquivo):\n",
        "    try:\n",
        "        with open(nome_arquivo, \"r\", encoding=\"utf-8\") as f:\n",
        "            linhas = f.readlines()\n",
        "            palavras = sum(len(linha.split()) for linha in linhas)\n",
        "            print(f\"Número de linhas: {len(linhas)}\")\n",
        "            print(f\"Número de palavras: {palavras}\")\n",
        "    except FileNotFoundError:\n",
        "        print(\"Erro: arquivo não encontrado.\")\n",
        "\n",
        "# Exemplo de chamada\n",
        "analisar_arquivo(\"texto.txt\")"
      ],
      "metadata": {
        "id": "5_5ox16xdeae"
      },
      "execution_count": null,
      "outputs": []
    },
    {
      "cell_type": "code",
      "source": [
        "# Exercício 5\n",
        "def salvar_nome_formatado(nome_arquivo):\n",
        "    try:\n",
        "        nome_completo = input(\"Digite seu nome completo: \")\n",
        "        if not nome_completo.replace(\" \", \"\").isalpha():\n",
        "            raise ValueError(\"Nome inválido, contém caracteres não permitidos.\")\n",
        "        nome_formatado = nome_completo.title()\n",
        "        with open(nome_arquivo, \"w\", encoding=\"utf-8\") as f:\n",
        "            f.write(nome_formatado)\n",
        "        print(\"Nome salvo no arquivo com sucesso.\")\n",
        "    except Exception as e:\n",
        "        print(\"Erro:\", e)\n",
        "\n",
        "# Exemplo de chamada\n",
        "salvar_nome_formatado(\"nome_formatado.txt\")"
      ],
      "metadata": {
        "id": "P3z3-sWAdgxq"
      },
      "execution_count": null,
      "outputs": []
    }
  ]
}